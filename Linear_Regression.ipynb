{
  "nbformat": 4,
  "nbformat_minor": 0,
  "metadata": {
    "colab": {
      "name": "Day1 Regression.ipynb",
      "provenance": []
    },
    "kernelspec": {
      "name": "python3",
      "display_name": "Python 3"
    },
    "accelerator": "GPU"
  },
  "cells": [
    {
      "cell_type": "code",
      "metadata": {
        "id": "dt4o7zf-7ZDj",
        "colab": {
          "base_uri": "https://localhost:8080/"
        },
        "outputId": "5a48145f-0af7-4292-c11d-08d35f079cb7"
      },
      "source": [
        "from google.colab import drive\n",
        "drive.mount('/gdrive')"
      ],
      "execution_count": 2,
      "outputs": [
        {
          "output_type": "stream",
          "name": "stdout",
          "text": [
            "Drive already mounted at /gdrive; to attempt to forcibly remount, call drive.mount(\"/gdrive\", force_remount=True).\n"
          ]
        }
      ]
    },
    {
      "cell_type": "code",
      "metadata": {
        "id": "KgF8JUHS9mlN"
      },
      "source": [
        "import numpy as np\n",
        "import pandas as pd\n",
        "import matplotlib.pyplot as plt\n",
        "%matplotlib inline"
      ],
      "execution_count": 3,
      "outputs": []
    },
    {
      "cell_type": "code",
      "metadata": {
        "id": "QFZn2rKd-bvY"
      },
      "source": [
        "path= '/gdrive/My Drive/ML:March2020/data/'\n"
      ],
      "execution_count": 4,
      "outputs": []
    },
    {
      "cell_type": "code",
      "metadata": {
        "id": "si6lyJWb_V01"
      },
      "source": [
        "raw_data = pd.read_csv(path+'Chennai_house_univariate_train.csv')"
      ],
      "execution_count": 5,
      "outputs": []
    },
    {
      "cell_type": "code",
      "metadata": {
        "id": "oRSCPSOsAAUP",
        "colab": {
          "base_uri": "https://localhost:8080/",
          "height": 206
        },
        "outputId": "0428a962-72f3-4d6c-9c8f-0f14b0b9a514"
      },
      "source": [
        "raw_data.head(5)"
      ],
      "execution_count": 6,
      "outputs": [
        {
          "output_type": "execute_result",
          "data": {
            "text/html": [
              "<div>\n",
              "<style scoped>\n",
              "    .dataframe tbody tr th:only-of-type {\n",
              "        vertical-align: middle;\n",
              "    }\n",
              "\n",
              "    .dataframe tbody tr th {\n",
              "        vertical-align: top;\n",
              "    }\n",
              "\n",
              "    .dataframe thead th {\n",
              "        text-align: right;\n",
              "    }\n",
              "</style>\n",
              "<table border=\"1\" class=\"dataframe\">\n",
              "  <thead>\n",
              "    <tr style=\"text-align: right;\">\n",
              "      <th></th>\n",
              "      <th>Size</th>\n",
              "      <th>Price</th>\n",
              "    </tr>\n",
              "  </thead>\n",
              "  <tbody>\n",
              "    <tr>\n",
              "      <th>0</th>\n",
              "      <td>502.69</td>\n",
              "      <td>6.3</td>\n",
              "    </tr>\n",
              "    <tr>\n",
              "      <th>1</th>\n",
              "      <td>503.65</td>\n",
              "      <td>6.3</td>\n",
              "    </tr>\n",
              "    <tr>\n",
              "      <th>2</th>\n",
              "      <td>505.46</td>\n",
              "      <td>6.5</td>\n",
              "    </tr>\n",
              "    <tr>\n",
              "      <th>3</th>\n",
              "      <td>505.94</td>\n",
              "      <td>6.5</td>\n",
              "    </tr>\n",
              "    <tr>\n",
              "      <th>4</th>\n",
              "      <td>507.02</td>\n",
              "      <td>6.6</td>\n",
              "    </tr>\n",
              "  </tbody>\n",
              "</table>\n",
              "</div>"
            ],
            "text/plain": [
              "     Size  Price\n",
              "0  502.69    6.3\n",
              "1  503.65    6.3\n",
              "2  505.46    6.5\n",
              "3  505.94    6.5\n",
              "4  507.02    6.6"
            ]
          },
          "metadata": {},
          "execution_count": 6
        }
      ]
    },
    {
      "cell_type": "code",
      "metadata": {
        "id": "AWldCEhdAqJp",
        "colab": {
          "base_uri": "https://localhost:8080/",
          "height": 300
        },
        "outputId": "6da6a4a3-5c6f-47cf-bf88-c1ee14cd9110"
      },
      "source": [
        "raw_data.describe()"
      ],
      "execution_count": 7,
      "outputs": [
        {
          "output_type": "execute_result",
          "data": {
            "text/html": [
              "<div>\n",
              "<style scoped>\n",
              "    .dataframe tbody tr th:only-of-type {\n",
              "        vertical-align: middle;\n",
              "    }\n",
              "\n",
              "    .dataframe tbody tr th {\n",
              "        vertical-align: top;\n",
              "    }\n",
              "\n",
              "    .dataframe thead th {\n",
              "        text-align: right;\n",
              "    }\n",
              "</style>\n",
              "<table border=\"1\" class=\"dataframe\">\n",
              "  <thead>\n",
              "    <tr style=\"text-align: right;\">\n",
              "      <th></th>\n",
              "      <th>Size</th>\n",
              "      <th>Price</th>\n",
              "    </tr>\n",
              "  </thead>\n",
              "  <tbody>\n",
              "    <tr>\n",
              "      <th>count</th>\n",
              "      <td>97.000000</td>\n",
              "      <td>97.000000</td>\n",
              "    </tr>\n",
              "    <tr>\n",
              "      <th>mean</th>\n",
              "      <td>815.980000</td>\n",
              "      <td>19.908247</td>\n",
              "    </tr>\n",
              "    <tr>\n",
              "      <th>std</th>\n",
              "      <td>386.988353</td>\n",
              "      <td>17.767208</td>\n",
              "    </tr>\n",
              "    <tr>\n",
              "      <th>min</th>\n",
              "      <td>502.690000</td>\n",
              "      <td>6.300000</td>\n",
              "    </tr>\n",
              "    <tr>\n",
              "      <th>25%</th>\n",
              "      <td>570.770000</td>\n",
              "      <td>9.300000</td>\n",
              "    </tr>\n",
              "    <tr>\n",
              "      <th>50%</th>\n",
              "      <td>658.940000</td>\n",
              "      <td>12.700000</td>\n",
              "    </tr>\n",
              "    <tr>\n",
              "      <th>75%</th>\n",
              "      <td>857.810000</td>\n",
              "      <td>20.900000</td>\n",
              "    </tr>\n",
              "    <tr>\n",
              "      <th>max</th>\n",
              "      <td>2220.300000</td>\n",
              "      <td>86.400000</td>\n",
              "    </tr>\n",
              "  </tbody>\n",
              "</table>\n",
              "</div>"
            ],
            "text/plain": [
              "              Size      Price\n",
              "count    97.000000  97.000000\n",
              "mean    815.980000  19.908247\n",
              "std     386.988353  17.767208\n",
              "min     502.690000   6.300000\n",
              "25%     570.770000   9.300000\n",
              "50%     658.940000  12.700000\n",
              "75%     857.810000  20.900000\n",
              "max    2220.300000  86.400000"
            ]
          },
          "metadata": {},
          "execution_count": 7
        }
      ]
    },
    {
      "cell_type": "code",
      "metadata": {
        "id": "styVmG_gA9c0",
        "colab": {
          "base_uri": "https://localhost:8080/",
          "height": 353
        },
        "outputId": "d0b84390-d570-4a8d-c932-c901fc2b0819"
      },
      "source": [
        "raw_data.plot(kind='scatter', x='Size', y='Price', figsize=(10,5))"
      ],
      "execution_count": 8,
      "outputs": [
        {
          "output_type": "execute_result",
          "data": {
            "text/plain": [
              "<matplotlib.axes._subplots.AxesSubplot at 0x7fdf428723d0>"
            ]
          },
          "metadata": {},
          "execution_count": 8
        },
        {
          "output_type": "display_data",
          "data": {
            "image/png": "[encoded data removed]",
            "text/plain": [
              "<Figure size 720x360 with 1 Axes>"
            ]
          },
          "metadata": {
            "needs_background": "light"
          }
        }
      ]
    },
    {
      "cell_type": "code",
      "metadata": {
        "id": "pI-JI6E3DI1x",
        "colab": {
          "base_uri": "https://localhost:8080/"
        },
        "outputId": "d4917386-2b96-46a9-d2b1-4d2c78461f1c"
      },
      "source": [
        "data=(raw_data-raw_data.mean())/(raw_data.max()-raw_data.min())\n",
        "data.head"
      ],
      "execution_count": 9,
      "outputs": [
        {
          "output_type": "execute_result",
          "data": {
            "text/plain": [
              "<bound method NDFrame.head of         Size     Price\n",
              "0  -0.182399 -0.169891\n",
              "1  -0.181840 -0.169891\n",
              "2  -0.180786 -0.167394\n",
              "3  -0.180507 -0.167394\n",
              "4  -0.179878 -0.166145\n",
              "..       ...       ...\n",
              "92  0.628734  0.627862\n",
              "93  0.705061  0.709011\n",
              "94  0.709195  0.714004\n",
              "95  0.763806  0.770184\n",
              "96  0.817601  0.830109\n",
              "\n",
              "[97 rows x 2 columns]>"
            ]
          },
          "metadata": {},
          "execution_count": 9
        }
      ]
    },
    {
      "cell_type": "code",
      "metadata": {
        "id": "MMG7SIyxDrJW",
        "colab": {
          "base_uri": "https://localhost:8080/",
          "height": 351
        },
        "outputId": "7f76c739-b5a5-4293-b23b-583168647e5f"
      },
      "source": [
        "data.plot(kind='scatter', x='Size', y='Price', figsize=(10,5))"
      ],
      "execution_count": 10,
      "outputs": [
        {
          "output_type": "execute_result",
          "data": {
            "text/plain": [
              "<matplotlib.axes._subplots.AxesSubplot at 0x7fdf422e4350>"
            ]
          },
          "metadata": {},
          "execution_count": 10
        },
        {
          "output_type": "display_data",
          "data": {
            "image/png": "[encoded data removed]",
            "text/plain": [
              "<Figure size 720x360 with 1 Axes>"
            ]
          },
          "metadata": {
            "needs_background": "light"
          }
        }
      ]
    },
    {
      "cell_type": "code",
      "metadata": {
        "id": "-oURC1O5Rsgc",
        "colab": {
          "base_uri": "https://localhost:8080/"
        },
        "outputId": "366511cc-3972-4ac1-88d8-70e9b9fbb582"
      },
      "source": [
        "data.shape"
      ],
      "execution_count": 11,
      "outputs": [
        {
          "output_type": "execute_result",
          "data": {
            "text/plain": [
              "(97, 2)"
            ]
          },
          "metadata": {},
          "execution_count": 11
        }
      ]
    },
    {
      "cell_type": "code",
      "metadata": {
        "id": "U7UNbbJ4RzSn",
        "colab": {
          "base_uri": "https://localhost:8080/"
        },
        "outputId": "0cf9e784-8f90-449a-809f-e7cee550c81d"
      },
      "source": [
        "data.shape[0]"
      ],
      "execution_count": 12,
      "outputs": [
        {
          "output_type": "execute_result",
          "data": {
            "text/plain": [
              "97"
            ]
          },
          "metadata": {},
          "execution_count": 12
        }
      ]
    },
    {
      "cell_type": "code",
      "metadata": {
        "id": "dO1tEs2OSGmi",
        "colab": {
          "base_uri": "https://localhost:8080/"
        },
        "outputId": "ae284b27-bd48-4162-831d-a3b52be07fa2"
      },
      "source": [
        "print(data.shape)\n",
        "print(data.shape[0])\n",
        "print(data.shape[1])"
      ],
      "execution_count": 13,
      "outputs": [
        {
          "output_type": "stream",
          "name": "stdout",
          "text": [
            "(97, 2)\n",
            "97\n",
            "2\n"
          ]
        }
      ]
    },
    {
      "cell_type": "code",
      "metadata": {
        "id": "aRwoEeoESYwB"
      },
      "source": [
        "data.insert(0,'Ones',1)\n"
      ],
      "execution_count": 14,
      "outputs": []
    },
    {
      "cell_type": "code",
      "metadata": {
        "id": "Uw6f_OHOWL8A",
        "colab": {
          "base_uri": "https://localhost:8080/",
          "height": 206
        },
        "outputId": "41c3b383-efbb-4dee-a169-4f59efd04ca0"
      },
      "source": [
        "data.head(5)\n"
      ],
      "execution_count": 15,
      "outputs": [
        {
          "output_type": "execute_result",
          "data": {
            "text/html": [
              "<div>\n",
              "<style scoped>\n",
              "    .dataframe tbody tr th:only-of-type {\n",
              "        vertical-align: middle;\n",
              "    }\n",
              "\n",
              "    .dataframe tbody tr th {\n",
              "        vertical-align: top;\n",
              "    }\n",
              "\n",
              "    .dataframe thead th {\n",
              "        text-align: right;\n",
              "    }\n",
              "</style>\n",
              "<table border=\"1\" class=\"dataframe\">\n",
              "  <thead>\n",
              "    <tr style=\"text-align: right;\">\n",
              "      <th></th>\n",
              "      <th>Ones</th>\n",
              "      <th>Size</th>\n",
              "      <th>Price</th>\n",
              "    </tr>\n",
              "  </thead>\n",
              "  <tbody>\n",
              "    <tr>\n",
              "      <th>0</th>\n",
              "      <td>1</td>\n",
              "      <td>-0.182399</td>\n",
              "      <td>-0.169891</td>\n",
              "    </tr>\n",
              "    <tr>\n",
              "      <th>1</th>\n",
              "      <td>1</td>\n",
              "      <td>-0.181840</td>\n",
              "      <td>-0.169891</td>\n",
              "    </tr>\n",
              "    <tr>\n",
              "      <th>2</th>\n",
              "      <td>1</td>\n",
              "      <td>-0.180786</td>\n",
              "      <td>-0.167394</td>\n",
              "    </tr>\n",
              "    <tr>\n",
              "      <th>3</th>\n",
              "      <td>1</td>\n",
              "      <td>-0.180507</td>\n",
              "      <td>-0.167394</td>\n",
              "    </tr>\n",
              "    <tr>\n",
              "      <th>4</th>\n",
              "      <td>1</td>\n",
              "      <td>-0.179878</td>\n",
              "      <td>-0.166145</td>\n",
              "    </tr>\n",
              "  </tbody>\n",
              "</table>\n",
              "</div>"
            ],
            "text/plain": [
              "   Ones      Size     Price\n",
              "0     1 -0.182399 -0.169891\n",
              "1     1 -0.181840 -0.169891\n",
              "2     1 -0.180786 -0.167394\n",
              "3     1 -0.180507 -0.167394\n",
              "4     1 -0.179878 -0.166145"
            ]
          },
          "metadata": {},
          "execution_count": 15
        }
      ]
    },
    {
      "cell_type": "code",
      "metadata": {
        "id": "_wJV8qh4XcuW",
        "colab": {
          "base_uri": "https://localhost:8080/"
        },
        "outputId": "e14ca6bb-75fa-4256-9e22-19935aa0e89f"
      },
      "source": [
        "cols=data.shape[1]\n",
        "print(cols)"
      ],
      "execution_count": 16,
      "outputs": [
        {
          "output_type": "stream",
          "name": "stdout",
          "text": [
            "3\n"
          ]
        }
      ]
    },
    {
      "cell_type": "code",
      "metadata": {
        "id": "kB2FRK-BXmIQ"
      },
      "source": [
        "x=data.iloc[:,0:cols-1]"
      ],
      "execution_count": 17,
      "outputs": []
    },
    {
      "cell_type": "code",
      "metadata": {
        "id": "kzRUF3vlYS4i"
      },
      "source": [
        "y=data.iloc[:,cols-1:cols]"
      ],
      "execution_count": 18,
      "outputs": []
    },
    {
      "cell_type": "code",
      "metadata": {
        "id": "sG91rbImYdYO"
      },
      "source": [
        "x=np.matrix(x)\n",
        "y=np.matrix(y)\n",
        "theta=np.matrix(np.array([0,0]))"
      ],
      "execution_count": 19,
      "outputs": []
    },
    {
      "cell_type": "code",
      "metadata": {
        "id": "_TOlGqdUamJX"
      },
      "source": [
        "def computeError(x,y,theta):\n",
        "  inner = np.power(((x*theta.T)-y),2)\n",
        "  return np.sum(inner)/(2*len(x))"
      ],
      "execution_count": 20,
      "outputs": []
    },
    {
      "cell_type": "code",
      "metadata": {
        "id": "P02op9qyb-Oy",
        "colab": {
          "base_uri": "https://localhost:8080/"
        },
        "outputId": "103ba97b-4d77-436a-f289-781c14bc88ea"
      },
      "source": [
        "computeError(x,y,theta)"
      ],
      "execution_count": 21,
      "outputs": [
        {
          "output_type": "execute_result",
          "data": {
            "text/plain": [
              "0.024346853685025278"
            ]
          },
          "metadata": {},
          "execution_count": 21
        }
      ]
    },
    {
      "cell_type": "code",
      "metadata": {
        "id": "gfwS9lBAyuoh"
      },
      "source": [
        "def gradientDescent(x,y,theta,Learn_rate,iters):\n",
        "  temp=np.matrix(np.zeros(theta.shape))\n",
        "  parameters=theta.shape[1]\n",
        "  cost=np.zeros(iters)\n",
        "  for i in range (iters):\n",
        "    error=(x*theta.T)-y\n",
        "    for j in range(parameters):\n",
        "      term=np.multiply(error,x[:,j])\n",
        "      temp[0,j]=theta[0,j]-((Learn_rate/len(x))*np.sum(term))\n",
        "    theta=temp\n",
        "    cost[i]=computeError(x,y,theta)\n",
        "\n",
        "  return theta, cost\n",
        "      \n",
        "\n"
      ],
      "execution_count": 22,
      "outputs": []
    },
    {
      "cell_type": "code",
      "metadata": {
        "id": "kwhK0BvK03hO",
        "colab": {
          "base_uri": "https://localhost:8080/"
        },
        "outputId": "89138a42-dd1a-49a8-d65a-0e1fb3d57434"
      },
      "source": [
        "Learn_rate=1.00\n",
        "iters=150\n",
        "new_theta,cost=gradientDescent(x,y,theta,Learn_rate,iters)\n",
        "print(new_theta)"
      ],
      "execution_count": 23,
      "outputs": [
        {
          "output_type": "stream",
          "name": "stdout",
          "text": [
            "[[-1.03546896e-16  9.82955251e-01]]\n"
          ]
        }
      ]
    },
    {
      "cell_type": "code",
      "metadata": {
        "id": "R_PSIR852Btm",
        "colab": {
          "base_uri": "https://localhost:8080/"
        },
        "outputId": "ea170de9-5876-4c4a-f771-b5baf5a2b263"
      },
      "source": [
        "print(cost)"
      ],
      "execution_count": 24,
      "outputs": [
        {
          "output_type": "stream",
          "name": "stdout",
          "text": [
            "[2.19673183e-02 1.98208708e-02 1.78846789e-02 1.61381471e-02\n",
            " 1.45626971e-02 1.31415706e-02 1.18596508e-02 1.07033016e-02\n",
            " 9.66022291e-03 8.71931915e-03 7.87058178e-03 7.10498263e-03\n",
            " 6.41437789e-03 5.79142147e-03 5.22948685e-03 4.72259664e-03\n",
            " 4.26535895e-03 3.85291006e-03 3.48086268e-03 3.14525926e-03\n",
            " 2.84252994e-03 2.56945453e-03 2.32312827e-03 2.10093094e-03\n",
            " 1.90049899e-03 1.71970039e-03 1.55661194e-03 1.40949886e-03\n",
            " 1.27679627e-03 1.15709258e-03 1.04911449e-03 9.51713408e-04\n",
            " 8.63853270e-04 7.84599488e-04 7.13109024e-04 6.48621422e-04\n",
            " 5.90450714e-04 5.37978129e-04 4.90645505e-04 4.47949357e-04\n",
            " 4.09435518e-04 3.74694309e-04 3.43356182e-04 3.15087786e-04\n",
            " 2.89588427e-04 2.66586861e-04 2.45838419e-04 2.27122393e-04\n",
            " 2.10239700e-04 1.95010753e-04 1.81273561e-04 1.68881998e-04\n",
            " 1.57704253e-04 1.47621426e-04 1.38526264e-04 1.30322020e-04\n",
            " 1.22921424e-04 1.16245755e-04 1.10224003e-04 1.04792112e-04\n",
            " 9.98923035e-05 9.54724563e-05 9.14855561e-05 8.78891934e-05\n",
            " 8.46451130e-05 8.17188072e-05 7.90791481e-05 7.66980574e-05\n",
            " 7.45502068e-05 7.26127493e-05 7.08650758e-05 6.92885960e-05\n",
            " 6.78665406e-05 6.65837828e-05 6.54266778e-05 6.43829173e-05\n",
            " 6.34413985e-05 6.25921063e-05 6.18260067e-05 6.11349506e-05\n",
            " 6.05115869e-05 5.99492850e-05 5.94420635e-05 5.89845269e-05\n",
            " 5.85718084e-05 5.81995178e-05 5.78636950e-05 5.75607678e-05\n",
            " 5.72875139e-05 5.70410267e-05 5.68186841e-05 5.66181211e-05\n",
            " 5.64372043e-05 5.62740093e-05 5.61268000e-05 5.59940107e-05\n",
            " 5.58742288e-05 5.57661801e-05 5.56687154e-05 5.55807978e-05\n",
            " 5.55014922e-05 5.54299550e-05 5.53654252e-05 5.53072165e-05\n",
            " 5.52547096e-05 5.52073461e-05 5.51646220e-05 5.51260830e-05\n",
            " 5.50913191e-05 5.50599605e-05 5.50316736e-05 5.50061576e-05\n",
            " 5.49831410e-05 5.49623790e-05 5.49436507e-05 5.49267570e-05\n",
            " 5.49115181e-05 5.48977719e-05 5.48853722e-05 5.48741872e-05\n",
            " 5.48640978e-05 5.48549967e-05 5.48467871e-05 5.48393816e-05\n",
            " 5.48327016e-05 5.48266759e-05 5.48212405e-05 5.48163374e-05\n",
            " 5.48119147e-05 5.48079252e-05 5.48043265e-05 5.48010803e-05\n",
            " 5.47981521e-05 5.47955107e-05 5.47931280e-05 5.47909788e-05\n",
            " 5.47890401e-05 5.47872912e-05 5.47857137e-05 5.47842907e-05\n",
            " 5.47830072e-05 5.47818493e-05 5.47808048e-05 5.47798627e-05\n",
            " 5.47790129e-05 5.47782463e-05 5.47775548e-05 5.47769310e-05\n",
            " 5.47763683e-05 5.47758608e-05]\n"
          ]
        }
      ]
    },
    {
      "cell_type": "code",
      "metadata": {
        "id": "9tMlASp967QU"
      },
      "source": [
        "Model_price=x*new_theta.T"
      ],
      "execution_count": 25,
      "outputs": []
    },
    {
      "cell_type": "code",
      "metadata": {
        "id": "_bKhGhiw7Q2a",
        "colab": {
          "base_uri": "https://localhost:8080/",
          "height": 530
        },
        "outputId": "6d2a1442-48d9-4213-9095-0813b52b758e"
      },
      "source": [
        "fig, ax= plt.subplots(figsize=(12,8))\n",
        "ax.plot(data.Size,Model_price,'r',label='Prediction')\n",
        "ax.scatter(data.Size,data.Price,label='Training Data')\n",
        "ax.legend(loc=2)\n",
        "ax.set_xlabel('Size')\n",
        "ax.set_ylabel('Price')\n",
        "ax.set_title('Predicted price vs Size')\n"
      ],
      "execution_count": 26,
      "outputs": [
        {
          "output_type": "execute_result",
          "data": {
            "text/plain": [
              "Text(0.5, 1.0, 'Predicted price vs Size')"
            ]
          },
          "metadata": {},
          "execution_count": 26
        },
        {
          "output_type": "display_data",
          "data": {
            "image/png": "[encoded data removed]",
            "text/plain": [
              "<Figure size 864x576 with 1 Axes>"
            ]
          },
          "metadata": {
            "needs_background": "light"
          }
        }
      ]
    },
    {
      "cell_type": "code",
      "metadata": {
        "id": "pKEW_VQT-R6a",
        "colab": {
          "base_uri": "https://localhost:8080/",
          "height": 530
        },
        "outputId": "d3fb296f-8722-428b-8110-257794a10a25"
      },
      "source": [
        "fig,ax=plt.subplots(figsize=(12,8))\n",
        "ax.plot(np.arange(iters),cost,'r')\n",
        "ax.set_xlabel('Iterations')\n",
        "ax.set_ylabel('Cost')\n",
        "ax.set_title('Error vs Iterations')"
      ],
      "execution_count": 27,
      "outputs": [
        {
          "output_type": "execute_result",
          "data": {
            "text/plain": [
              "Text(0.5, 1.0, 'Error vs Iterations')"
            ]
          },
          "metadata": {},
          "execution_count": 27
        },
        {
          "output_type": "display_data",
          "data": {
            "image/png": "[encoded data removed]",
            "text/plain": [
              "<Figure size 864x576 with 1 Axes>"
            ]
          },
          "metadata": {
            "needs_background": "light"
          }
        }
      ]
    },
    {
      "cell_type": "code",
      "metadata": {
        "id": "VFtGSLYv9_IR"
      },
      "source": [
        "import math\n",
        "erro_r=[np.power((b-a),2)for(a,b)in zip (Model_price,y)]\n",
        "error0=np.sum(erro_r)\n",
        "error1=math.sqrt(error0)\n",
        "error=(error1/len(y))*100\n",
        "\n"
      ],
      "execution_count": 28,
      "outputs": []
    },
    {
      "cell_type": "code",
      "metadata": {
        "id": "ghHYP29s_sau",
        "colab": {
          "base_uri": "https://localhost:8080/"
        },
        "outputId": "48a5d4c7-6af3-490f-fc7f-a8ec280f5bf4"
      },
      "source": [
        "print (\"error%={}\".format (error))\n",
        "accuracy= 100-error\n",
        "print(\"accuracy%={}\".format(accuracy))"
      ],
      "execution_count": 29,
      "outputs": [
        {
          "output_type": "stream",
          "name": "stdout",
          "text": [
            "error%=0.10627319469129685\n",
            "accuracy%=99.8937268053087\n"
          ]
        }
      ]
    },
    {
      "cell_type": "code",
      "metadata": {
        "id": "Yl91NebRBkCr",
        "colab": {
          "base_uri": "https://localhost:8080/"
        },
        "outputId": "100f43b0-7a9b-4172-cec5-9fa99a82dce0"
      },
      "source": [
        "def predict (new_theta,accuracy):\n",
        "  size = float(input(\"enter the size of the house :\"))\n",
        "  size=(size-raw_data.Size.mean())/(raw_data.Size.max()-raw_data.Size.min())\n",
        "  price=(new_theta[0,0]+(new_theta[0,1]*size))\n",
        "  predicted_price=(price*(raw_data.Price.max()-raw_data.Price.min()))+(raw_data.Price.mean())\n",
        "  price_at_max_accuracy=(predicted_price*(1/accuracy)*100)\n",
        "  price_range=price_at_max_accuracy-predicted_price\n",
        "\n",
        "  return predicted_price, price_range\n",
        "\n",
        "predicted_price,price_range=predict(new_theta,accuracy)\n",
        "print('your house cost is '+str(round(predicted_price,3))+' lakhs')\n"
      ],
      "execution_count": 37,
      "outputs": [
        {
          "output_type": "stream",
          "name": "stdout",
          "text": [
            "enter the size of the house :560\n",
            "your house cost is 8.174 lakhs\n"
          ]
        }
      ]
    }
  ]
}